{
  "nbformat": 4,
  "nbformat_minor": 0,
  "metadata": {
    "colab": {
      "provenance": []
    },
    "kernelspec": {
      "name": "python3",
      "display_name": "Python 3"
    },
    "language_info": {
      "name": "python"
    },
    "widgets": {
      "application/vnd.jupyter.widget-state+json": {
        "93d9101b33ab4e97a5142909e8fcbaad": {
          "model_module": "@jupyter-widgets/controls",
          "model_name": "HBoxModel",
          "model_module_version": "1.5.0",
          "state": {
            "_dom_classes": [],
            "_model_module": "@jupyter-widgets/controls",
            "_model_module_version": "1.5.0",
            "_model_name": "HBoxModel",
            "_view_count": null,
            "_view_module": "@jupyter-widgets/controls",
            "_view_module_version": "1.5.0",
            "_view_name": "HBoxView",
            "box_style": "",
            "children": [
              "IPY_MODEL_ac1569c4ddd443248e7f3b1d2797611d",
              "IPY_MODEL_076c422f5e814faf9aaa622f16b9f778",
              "IPY_MODEL_6ecdb3bdf3434fa5ae31f56ec356d7a6"
            ],
            "layout": "IPY_MODEL_7aa3ecfcd31b4563aa58a1e0e765d6b2"
          }
        },
        "ac1569c4ddd443248e7f3b1d2797611d": {
          "model_module": "@jupyter-widgets/controls",
          "model_name": "HTMLModel",
          "model_module_version": "1.5.0",
          "state": {
            "_dom_classes": [],
            "_model_module": "@jupyter-widgets/controls",
            "_model_module_version": "1.5.0",
            "_model_name": "HTMLModel",
            "_view_count": null,
            "_view_module": "@jupyter-widgets/controls",
            "_view_module_version": "1.5.0",
            "_view_name": "HTMLView",
            "description": "",
            "description_tooltip": null,
            "layout": "IPY_MODEL_22aff7d059f846e9bcc5ce01b127df95",
            "placeholder": "​",
            "style": "IPY_MODEL_f3888433f37742098431c6cd1581421e",
            "value": "Downloading (…)lve/main/config.json: 100%"
          }
        },
        "076c422f5e814faf9aaa622f16b9f778": {
          "model_module": "@jupyter-widgets/controls",
          "model_name": "FloatProgressModel",
          "model_module_version": "1.5.0",
          "state": {
            "_dom_classes": [],
            "_model_module": "@jupyter-widgets/controls",
            "_model_module_version": "1.5.0",
            "_model_name": "FloatProgressModel",
            "_view_count": null,
            "_view_module": "@jupyter-widgets/controls",
            "_view_module_version": "1.5.0",
            "_view_name": "ProgressView",
            "bar_style": "success",
            "description": "",
            "description_tooltip": null,
            "layout": "IPY_MODEL_8f58049dd99c476d9863a7aba599e996",
            "max": 570,
            "min": 0,
            "orientation": "horizontal",
            "style": "IPY_MODEL_fb6e85d12fb84a41ac3b2b64fad294cf",
            "value": 570
          }
        },
        "6ecdb3bdf3434fa5ae31f56ec356d7a6": {
          "model_module": "@jupyter-widgets/controls",
          "model_name": "HTMLModel",
          "model_module_version": "1.5.0",
          "state": {
            "_dom_classes": [],
            "_model_module": "@jupyter-widgets/controls",
            "_model_module_version": "1.5.0",
            "_model_name": "HTMLModel",
            "_view_count": null,
            "_view_module": "@jupyter-widgets/controls",
            "_view_module_version": "1.5.0",
            "_view_name": "HTMLView",
            "description": "",
            "description_tooltip": null,
            "layout": "IPY_MODEL_7ae209fbf7374a1a8a48c210033b3b4b",
            "placeholder": "​",
            "style": "IPY_MODEL_6d434a77362e4483a1114b43ffb951e2",
            "value": " 570/570 [00:00&lt;00:00, 7.14kB/s]"
          }
        },
        "7aa3ecfcd31b4563aa58a1e0e765d6b2": {
          "model_module": "@jupyter-widgets/base",
          "model_name": "LayoutModel",
          "model_module_version": "1.2.0",
          "state": {
            "_model_module": "@jupyter-widgets/base",
            "_model_module_version": "1.2.0",
            "_model_name": "LayoutModel",
            "_view_count": null,
            "_view_module": "@jupyter-widgets/base",
            "_view_module_version": "1.2.0",
            "_view_name": "LayoutView",
            "align_content": null,
            "align_items": null,
            "align_self": null,
            "border": null,
            "bottom": null,
            "display": null,
            "flex": null,
            "flex_flow": null,
            "grid_area": null,
            "grid_auto_columns": null,
            "grid_auto_flow": null,
            "grid_auto_rows": null,
            "grid_column": null,
            "grid_gap": null,
            "grid_row": null,
            "grid_template_areas": null,
            "grid_template_columns": null,
            "grid_template_rows": null,
            "height": null,
            "justify_content": null,
            "justify_items": null,
            "left": null,
            "margin": null,
            "max_height": null,
            "max_width": null,
            "min_height": null,
            "min_width": null,
            "object_fit": null,
            "object_position": null,
            "order": null,
            "overflow": null,
            "overflow_x": null,
            "overflow_y": null,
            "padding": null,
            "right": null,
            "top": null,
            "visibility": null,
            "width": null
          }
        },
        "22aff7d059f846e9bcc5ce01b127df95": {
          "model_module": "@jupyter-widgets/base",
          "model_name": "LayoutModel",
          "model_module_version": "1.2.0",
          "state": {
            "_model_module": "@jupyter-widgets/base",
            "_model_module_version": "1.2.0",
            "_model_name": "LayoutModel",
            "_view_count": null,
            "_view_module": "@jupyter-widgets/base",
            "_view_module_version": "1.2.0",
            "_view_name": "LayoutView",
            "align_content": null,
            "align_items": null,
            "align_self": null,
            "border": null,
            "bottom": null,
            "display": null,
            "flex": null,
            "flex_flow": null,
            "grid_area": null,
            "grid_auto_columns": null,
            "grid_auto_flow": null,
            "grid_auto_rows": null,
            "grid_column": null,
            "grid_gap": null,
            "grid_row": null,
            "grid_template_areas": null,
            "grid_template_columns": null,
            "grid_template_rows": null,
            "height": null,
            "justify_content": null,
            "justify_items": null,
            "left": null,
            "margin": null,
            "max_height": null,
            "max_width": null,
            "min_height": null,
            "min_width": null,
            "object_fit": null,
            "object_position": null,
            "order": null,
            "overflow": null,
            "overflow_x": null,
            "overflow_y": null,
            "padding": null,
            "right": null,
            "top": null,
            "visibility": null,
            "width": null
          }
        },
        "f3888433f37742098431c6cd1581421e": {
          "model_module": "@jupyter-widgets/controls",
          "model_name": "DescriptionStyleModel",
          "model_module_version": "1.5.0",
          "state": {
            "_model_module": "@jupyter-widgets/controls",
            "_model_module_version": "1.5.0",
            "_model_name": "DescriptionStyleModel",
            "_view_count": null,
            "_view_module": "@jupyter-widgets/base",
            "_view_module_version": "1.2.0",
            "_view_name": "StyleView",
            "description_width": ""
          }
        },
        "8f58049dd99c476d9863a7aba599e996": {
          "model_module": "@jupyter-widgets/base",
          "model_name": "LayoutModel",
          "model_module_version": "1.2.0",
          "state": {
            "_model_module": "@jupyter-widgets/base",
            "_model_module_version": "1.2.0",
            "_model_name": "LayoutModel",
            "_view_count": null,
            "_view_module": "@jupyter-widgets/base",
            "_view_module_version": "1.2.0",
            "_view_name": "LayoutView",
            "align_content": null,
            "align_items": null,
            "align_self": null,
            "border": null,
            "bottom": null,
            "display": null,
            "flex": null,
            "flex_flow": null,
            "grid_area": null,
            "grid_auto_columns": null,
            "grid_auto_flow": null,
            "grid_auto_rows": null,
            "grid_column": null,
            "grid_gap": null,
            "grid_row": null,
            "grid_template_areas": null,
            "grid_template_columns": null,
            "grid_template_rows": null,
            "height": null,
            "justify_content": null,
            "justify_items": null,
            "left": null,
            "margin": null,
            "max_height": null,
            "max_width": null,
            "min_height": null,
            "min_width": null,
            "object_fit": null,
            "object_position": null,
            "order": null,
            "overflow": null,
            "overflow_x": null,
            "overflow_y": null,
            "padding": null,
            "right": null,
            "top": null,
            "visibility": null,
            "width": null
          }
        },
        "fb6e85d12fb84a41ac3b2b64fad294cf": {
          "model_module": "@jupyter-widgets/controls",
          "model_name": "ProgressStyleModel",
          "model_module_version": "1.5.0",
          "state": {
            "_model_module": "@jupyter-widgets/controls",
            "_model_module_version": "1.5.0",
            "_model_name": "ProgressStyleModel",
            "_view_count": null,
            "_view_module": "@jupyter-widgets/base",
            "_view_module_version": "1.2.0",
            "_view_name": "StyleView",
            "bar_color": null,
            "description_width": ""
          }
        },
        "7ae209fbf7374a1a8a48c210033b3b4b": {
          "model_module": "@jupyter-widgets/base",
          "model_name": "LayoutModel",
          "model_module_version": "1.2.0",
          "state": {
            "_model_module": "@jupyter-widgets/base",
            "_model_module_version": "1.2.0",
            "_model_name": "LayoutModel",
            "_view_count": null,
            "_view_module": "@jupyter-widgets/base",
            "_view_module_version": "1.2.0",
            "_view_name": "LayoutView",
            "align_content": null,
            "align_items": null,
            "align_self": null,
            "border": null,
            "bottom": null,
            "display": null,
            "flex": null,
            "flex_flow": null,
            "grid_area": null,
            "grid_auto_columns": null,
            "grid_auto_flow": null,
            "grid_auto_rows": null,
            "grid_column": null,
            "grid_gap": null,
            "grid_row": null,
            "grid_template_areas": null,
            "grid_template_columns": null,
            "grid_template_rows": null,
            "height": null,
            "justify_content": null,
            "justify_items": null,
            "left": null,
            "margin": null,
            "max_height": null,
            "max_width": null,
            "min_height": null,
            "min_width": null,
            "object_fit": null,
            "object_position": null,
            "order": null,
            "overflow": null,
            "overflow_x": null,
            "overflow_y": null,
            "padding": null,
            "right": null,
            "top": null,
            "visibility": null,
            "width": null
          }
        },
        "6d434a77362e4483a1114b43ffb951e2": {
          "model_module": "@jupyter-widgets/controls",
          "model_name": "DescriptionStyleModel",
          "model_module_version": "1.5.0",
          "state": {
            "_model_module": "@jupyter-widgets/controls",
            "_model_module_version": "1.5.0",
            "_model_name": "DescriptionStyleModel",
            "_view_count": null,
            "_view_module": "@jupyter-widgets/base",
            "_view_module_version": "1.2.0",
            "_view_name": "StyleView",
            "description_width": ""
          }
        }
      }
    }
  },
  "cells": [
    {
      "cell_type": "markdown",
      "source": [
        "# **UNIT TEST CASE ANALYSIS**"
      ],
      "metadata": {
        "id": "lf4L6idTK3uz"
      }
    },
    {
      "cell_type": "markdown",
      "source": [
        " Please use en_wiki_10k.txt file to perform layer wise intra sentence_similarity "
      ],
      "metadata": {
        "id": "3y5ewX9-OAMl"
      }
    },
    {
      "cell_type": "code",
      "source": [
        "#install the \"datasets\" and \"transformers\" libraries\n",
        "! pip install datasets transformers"
      ],
      "metadata": {
        "id": "KcFlbMB4P51K"
      },
      "execution_count": null,
      "outputs": []
    },
    {
      "cell_type": "code",
      "source": [
        "# required libraries \n",
        "import torch\n",
        "import json\n",
        "import progressbar\n",
        "import argparse\n",
        "from transformers import AutoModel, AutoTokenizer\n",
        "import torch.nn.functional as F\n",
        "import matplotlib\n",
        "import matplotlib.pyplot as plt\n",
        "import torch.nn.functional as F\n",
        "import seaborn as sns\n",
        "import pandas as pd\n",
        "import numpy as np"
      ],
      "metadata": {
        "id": "M1gJAv0WDh8U"
      },
      "execution_count": 6,
      "outputs": []
    },
    {
      "cell_type": "code",
      "source": [
        "#function loads a pre-trained language model and tokenize\n",
        "def load_model_tokenizer(model_name):\n",
        "    return AutoModel.from_pretrained(model_name), AutoTokenizer.from_pretrained(model_name)\n"
      ],
      "metadata": {
        "id": "4AvevqWHD7mf"
      },
      "execution_count": 7,
      "outputs": []
    },
    {
      "cell_type": "code",
      "source": [
        "#generates a diagonal mask matrix\n",
        "def get_diag_mask_matrix(seqlen):\n",
        "    m= np.zeros((seqlen, seqlen), float)\n",
        "    np.fill_diagonal(m, 1.0)\n",
        "    return 1.0 - m"
      ],
      "metadata": {
        "id": "pD-ThMPaEUhE"
      },
      "execution_count": 8,
      "outputs": []
    },
    {
      "cell_type": "code",
      "source": [
        "#tokenizes a sentence using a given tokenizer object\n",
        "def text_to_id(sentence, tokenizer, is_cuda, device):\n",
        "    sentence = '[CLS] ' + sentence + ' [SEP]'\n",
        "    token_id = torch.LongTensor(tokenizer.convert_tokens_to_ids(tokenizer.tokenize(sentence) )).view(1,-1)\n",
        "    if is_cuda:\n",
        "        token_id = token_id.cuda(device)\n",
        "    return token_id\n"
      ],
      "metadata": {
        "id": "vwOLz3qFFXjX"
      },
      "execution_count": 9,
      "outputs": []
    },
    {
      "cell_type": "code",
      "source": [
        "def compute_cosine_correlation_matrix(hidden_tensor):\n",
        "    # retrieve the second dimension of hidden tensor to get the sequence length\n",
        "    _, seq_leng, _ = hidden_tensor.size()\n",
        "    # normalize hidden tensor along last dimension using PyTorch's norm method, divide each vector by its norm\n",
        "    norm_hidden = hidden_tensor / hidden_tensor.norm(dim=2, keepdim=True) \n",
        "    # take transpose of normalized hidden tensor\n",
        "    norm_hidden_transpose = norm_hidden.transpose(1, 2)\n",
        "    # compute cosine similarity between each pair of vectors in the original tensor using dot product of normalized tensor and its transpose\n",
        "    correlation_matrix = torch.matmul(norm_hidden, norm_hidden_transpose).view(seq_leng, seq_leng)\n",
        "    # convert correlation matrix to NumPy array, detach from computation graph, and return\n",
        "    return correlation_matrix.detach().cpu().numpy()\n"
      ],
      "metadata": {
        "id": "rf2HgDUwGHg5"
      },
      "execution_count": 10,
      "outputs": []
    },
    {
      "cell_type": "code",
      "source": [
        "\n",
        "#function calculates the sum of cosine similarities\n",
        "\n",
        "def compute_stat(hidden):\n",
        "    # Compute the cosine similarity matrix for the input tensor\n",
        "    cosine_correlation_matrix = compute_cosine_correlation_matrix(hidden)\n",
        "    \n",
        "    # Create a diagonal mask matrix to exclude diagonal elements from the sum of cosine similarities,Get the length of the sequence from the cosine similarity matrix\n",
        "    mask_matrix = get_diag_mask_matrix(cosine_correlation_matrix.shape[0])\n",
        "    \n",
        "    # Check that the mask matrix has the same shape as the cosine similarity matrix\n",
        "    assert mask_matrix.shape == cosine_correlation_matrix.shape\n",
        "    \n",
        "    # Apply the mask matrix to the cosine similarity matrix to exclude diagonal elements\n",
        "    cosine_masked_matrix = cosine_correlation_matrix * mask_matrix\n",
        "\n",
        "    #length of the sequence from the cosine similarity matrix\n",
        "    seq_len  = cosine_correlation_matrix.shape[0]\n",
        "\n",
        "    # Calculate the sum of cosine similarities between pairs of vectors, excluding diagonal elementstotal number of pairs of vectors in the sequence and return.\n",
        "    return np.sum(cosine_masked_matrix) / 2, seq_len * (seq_len - 1) / 2\n"
      ],
      "metadata": {
        "id": "OT2yd9djIyd7"
      },
      "execution_count": 11,
      "outputs": []
    },
    {
      "cell_type": "code",
      "source": [
        "#function processes a single text instance using a language model and computes the cosine similarity sum and the total number of token pairs for each attention layer of the model\n",
        "def process_one_instance(model, tokenizer, text, is_cuda, device):\n",
        "    # initialize an empty dictionary to store the cosine similarity sum and the total number of token pairs for each attention layer\n",
        "    res_dic = {}\n",
        "    for id in range(1,13):\n",
        "        # add an empty dictionary for each attention layer to the result dictionary\n",
        "        res_dic[id] = {}\n",
        "    # tokenize the input text and convert it to a tensor of token IDs\n",
        "    input_id = text_to_id(text, tokenizer, is_cuda, device)\n",
        "    # run the input through the language model and retrieve the hidden states for each attention layer\n",
        "    outputs = model(input_id, output_hidden_states=True)\n",
        "    attention_hidden_states = outputs[-1]\n",
        "    for id in range(1,13):\n",
        "        # compute the cosine similarity sum and the total number of token pairs for the current attention layer\n",
        "        one_cosine_sum, one_token_num = compute_stat(attention_hidden_states[id])\n",
        "        # add the cosine similarity sum and the total number of token pairs to the result dictionary for the current attention layer\n",
        "        res_dic[id]['cosine_sum'] = one_cosine_sum\n",
        "        res_dic[id]['token_sum'] = one_token_num\n",
        "    # return the result dictionary\n",
        "    return res_dic\n"
      ],
      "metadata": {
        "id": "wTdH1xveKQsZ"
      },
      "execution_count": 12,
      "outputs": []
    },
    {
      "cell_type": "code",
      "source": [
        "# Function to parse command line arguments\n",
        "def parse_config():\n",
        "    # Create an argument parser\n",
        "    parser = argparse.ArgumentParser()\n",
        "    # Add three arguments to the parser: model_name, file_path, and output_path, all of type string\n",
        "    parser.add_argument(\"--model_name\", type=str)\n",
        "    parser.add_argument(\"--file_path\", type=str)\n",
        "    parser.add_argument(\"--output_path\", type=str)\n",
        "    # Parse the arguments from the command line and return them as a Namespace object\n",
        "    return parser.parse_args()\n"
      ],
      "metadata": {
        "id": "6QYZmT-8MMam"
      },
      "execution_count": 13,
      "outputs": []
    },
    {
      "cell_type": "code",
      "source": [
        "#function is a wrapper function that performs layer-wise intra-sentence similarity analysis on a text file containing sentence\n",
        "\n",
        "all_res_dict = {} # create an empty dictionary to store the output for each input text\n",
        "\n",
        "def startAnalysis(model_name, file_path, output_path):\n",
        "    # create an argument parser to take command-line arguments for model name, input file path, and output file path\n",
        "    import argparse\n",
        "    parser = argparse.ArgumentParser(description='Calculate layer-wise intra-sentence similarity using a BERT model.')\n",
        "    parser.add_argument('--model_name', type=str, required=True, help='Name or path of the pre-trained BERT model')\n",
        "    parser.add_argument('--file_path', type=str, required=True, help='Path to the text file containing sentences for similarity calculation')\n",
        "    parser.add_argument('--output_path', type=str, required=True, help='Path to save the output JSON file')\n",
        "    args = parser.parse_args([f\"--model_name={model_name}\", f\"--file_path={file_path}\", f\"--output_path={output_path}\"])\n",
        "\n",
        "    # check if GPU is available\n",
        "    if torch.cuda.is_available():\n",
        "        print ('Cuda is available.')\n",
        "    is_cuda = torch.cuda.is_available()\n",
        "\n",
        "    # set the device to CUDA if available, otherwise use CPU\n",
        "    device = torch.device('cuda') if is_cuda else torch.device('cpu')\n",
        "\n",
        "    # load the specified pre-trained BERT model and tokenizer\n",
        "    model, tokenizer = load_model_tokenizer(args.model_name)\n",
        "\n",
        "    # move the model to CUDA if available\n",
        "    if is_cuda:\n",
        "        model = model.cuda(device)\n",
        "\n",
        "    # set the model to evaluation mode\n",
        "    model.eval()\n",
        "\n",
        "    # read input text from the file and store in a list\n",
        "    text_list = []\n",
        "    with open(args.file_path, 'r', encoding='utf8') as i:\n",
        "        lines = i.readlines()\n",
        "        for l in lines:\n",
        "            text_list.append(l.strip('\\n'))\n",
        "\n",
        "    # use progressbar to track progress while processing input texts\n",
        "    import progressbar\n",
        "    print('Start measuring intra-sentence similarity...')\n",
        "    print('Number of text is {}'.format(len(text_list)))\n",
        "    p = progressbar.ProgressBar(len(text_list))\n",
        "    p.start()\n",
        "\n",
        "    # loop over all input texts\n",
        "    for idx in range(len(text_list)):\n",
        "        p.update(idx)\n",
        "        one_text = text_list[idx]\n",
        "        one_res_dict = process_one_instance(model, tokenizer, one_text, is_cuda, device) # get the output for one input text\n",
        "        all_res_dict[idx] = one_res_dict # store the output in the all_res_dict dictionary\n",
        "\n",
        "    p.finish()\n",
        "    print('Completed !')\n"
      ],
      "metadata": {
        "id": "ni8CXkCvLbTG"
      },
      "execution_count": 14,
      "outputs": []
    },
    {
      "cell_type": "code",
      "source": [
        "#The startAnalysis function will load the specified TACL BERT model and tokenizer, \n",
        "#read in the text file, and then process each sentence in the file using the process_one_instance function. \n",
        "#The results of the analysis will be saved to the specified output file in JSON form\n",
        "startAnalysis(\n",
        "    model_name='cambridgeltl/tacl-bert-base-uncased',\n",
        "    file_path='./en_wiki_randomly_select_50k.txt',\n",
        "    output_path='./tacl_result-2.json'\n",
        ")"
      ],
      "metadata": {
        "id": "eu8ZURW-P2k0"
      },
      "execution_count": null,
      "outputs": []
    },
    {
      "cell_type": "code",
      "source": [
        "#dictionary into a JSON file\n",
        "with open('./tacl_resul.json', 'w') as outfile:\n",
        "      json.dump(all_res_dict, outfile, indent=4)\n"
      ],
      "metadata": {
        "id": "Ox2s3RDjOUHs"
      },
      "execution_count": null,
      "outputs": []
    },
    {
      "cell_type": "code",
      "source": [
        "#The startAnalysis function will load the specified Bert model and tokenizer, \n",
        "#read in the text file, and then process each sentence in the file using the process_one_instance function. \n",
        "#The results of the analysis will be saved to the specified output file in JSON form\n",
        "startAnalysis(\n",
        "    model_name='bert-base-uncased',\n",
        "    file_path='./en_wiki_randomly_select_50k.txt',\n",
        "    output_path='./bert_resul.json'\n",
        ")\n",
        "#dictionary into a JSON file\n",
        "with open('./bert_resul.json', 'w') as outfile:\n",
        "      json.dump(all_res_dict, outfile, indent=4)\n"
      ],
      "metadata": {
        "colab": {
          "base_uri": "https://localhost:8080/",
          "height": 1000,
          "referenced_widgets": [
            "93d9101b33ab4e97a5142909e8fcbaad",
            "ac1569c4ddd443248e7f3b1d2797611d",
            "076c422f5e814faf9aaa622f16b9f778",
            "6ecdb3bdf3434fa5ae31f56ec356d7a6",
            "7aa3ecfcd31b4563aa58a1e0e765d6b2",
            "22aff7d059f846e9bcc5ce01b127df95",
            "f3888433f37742098431c6cd1581421e",
            "8f58049dd99c476d9863a7aba599e996",
            "fb6e85d12fb84a41ac3b2b64fad294cf",
            "7ae209fbf7374a1a8a48c210033b3b4b",
            "6d434a77362e4483a1114b43ffb951e2"
          ]
        },
        "id": "7n0hJB3SOL-3",
        "outputId": "e303a4d6-9c43-494b-d5e0-41a2bf103d75"
      },
      "execution_count": null,
      "outputs": [
        {
          "output_type": "display_data",
          "data": {
            "text/plain": [
              "Downloading (…)lve/main/config.json:   0%|          | 0.00/570 [00:00<?, ?B/s]"
            ],
            "application/vnd.jupyter.widget-view+json": {
              "version_major": 2,
              "version_minor": 0,
              "model_id": "93d9101b33ab4e97a5142909e8fcbaad"
            }
          },
          "metadata": {}
        },
        {
          "output_type": "stream",
          "name": "stderr",
          "text": [
            "ERROR:root:Internal Python error in the inspect module.\n",
            "Below is the traceback from this internal error.\n",
            "\n",
            "ERROR:root:Internal Python error in the inspect module.\n",
            "Below is the traceback from this internal error.\n",
            "\n",
            "ERROR:root:Internal Python error in the inspect module.\n",
            "Below is the traceback from this internal error.\n",
            "\n"
          ]
        },
        {
          "output_type": "stream",
          "name": "stdout",
          "text": [
            "Traceback (most recent call last):\n",
            "  File \"/usr/local/lib/python3.9/dist-packages/IPython/core/interactiveshell.py\", line 3553, in run_code\n",
            "    exec(code_obj, self.user_global_ns, self.user_ns)\n",
            "  File \"<ipython-input-30-f2c1a743b26b>\", line 4, in <cell line: 4>\n",
            "    startAnalysis(\n",
            "  File \"<ipython-input-29-45567aa91255>\", line 23, in startAnalysis\n",
            "    model, tokenizer = load_model_tokenizer(args.model_name)\n",
            "  File \"<ipython-input-22-8e4ab26a6363>\", line 3, in load_model_tokenizer\n",
            "    return AutoModel.from_pretrained(model_name), AutoTokenizer.from_pretrained(model_name)\n",
            "  File \"/usr/local/lib/python3.9/dist-packages/transformers/models/auto/auto_factory.py\", line 471, in from_pretrained\n",
            "    return model_class.from_pretrained(\n",
            "  File \"/usr/local/lib/python3.9/dist-packages/transformers/modeling_utils.py\", line 2089, in from_pretrained\n",
            "    use_safetensors = kwargs.pop(\"use_safetensors\", None if is_safetensors_available() else False)\n",
            "  File \"/usr/local/lib/python3.9/dist-packages/transformers/utils/import_utils.py\", line 587, in is_safetensors_available\n",
            "    return importlib.util.find_spec(\"safetensors\") is not None\n",
            "  File \"/usr/lib/python3.9/importlib/util.py\", line 103, in find_spec\n",
            "    return _find_spec(fullname, parent_path)\n",
            "  File \"<frozen importlib._bootstrap>\", line 925, in _find_spec\n",
            "  File \"<frozen importlib._bootstrap_external>\", line 1423, in find_spec\n",
            "  File \"<frozen importlib._bootstrap_external>\", line 1392, in _get_spec\n",
            "  File \"<frozen importlib._bootstrap_external>\", line 1356, in _path_importer_cache\n",
            "OSError: [Errno 107] Transport endpoint is not connected\n",
            "\n",
            "During handling of the above exception, another exception occurred:\n",
            "\n",
            "Traceback (most recent call last):\n",
            "  File \"/usr/local/lib/python3.9/dist-packages/IPython/core/interactiveshell.py\", line 2099, in showtraceback\n",
            "    stb = value._render_traceback_()\n",
            "AttributeError: 'OSError' object has no attribute '_render_traceback_'\n",
            "\n",
            "During handling of the above exception, another exception occurred:\n",
            "\n",
            "Traceback (most recent call last):\n",
            "  File \"/usr/local/lib/python3.9/dist-packages/IPython/core/ultratb.py\", line 1101, in get_records\n",
            "    return _fixed_getinnerframes(etb, number_of_lines_of_context, tb_offset)\n",
            "  File \"/usr/local/lib/python3.9/dist-packages/IPython/core/ultratb.py\", line 248, in wrapped\n",
            "    return f(*args, **kwargs)\n",
            "  File \"/usr/local/lib/python3.9/dist-packages/IPython/core/ultratb.py\", line 281, in _fixed_getinnerframes\n",
            "    records = fix_frame_records_filenames(inspect.getinnerframes(etb, context))\n",
            "  File \"/usr/lib/python3.9/inspect.py\", line 1543, in getinnerframes\n",
            "    frameinfo = (tb.tb_frame,) + getframeinfo(tb, context)\n",
            "  File \"/usr/lib/python3.9/inspect.py\", line 1501, in getframeinfo\n",
            "    filename = getsourcefile(frame) or getfile(frame)\n",
            "  File \"/usr/lib/python3.9/inspect.py\", line 709, in getsourcefile\n",
            "    if getattr(getmodule(object, filename), '__loader__', None) is not None:\n",
            "  File \"/usr/lib/python3.9/inspect.py\", line 738, in getmodule\n",
            "    file = getabsfile(object, _filename)\n",
            "  File \"/usr/lib/python3.9/inspect.py\", line 722, in getabsfile\n",
            "    return os.path.normcase(os.path.abspath(_filename))\n",
            "  File \"/usr/lib/python3.9/posixpath.py\", line 380, in abspath\n",
            "    cwd = os.getcwd()\n",
            "OSError: [Errno 107] Transport endpoint is not connected\n",
            "Traceback (most recent call last):\n",
            "  File \"/usr/local/lib/python3.9/dist-packages/IPython/core/interactiveshell.py\", line 3553, in run_code\n",
            "    exec(code_obj, self.user_global_ns, self.user_ns)\n",
            "  File \"<ipython-input-30-f2c1a743b26b>\", line 4, in <cell line: 4>\n",
            "    startAnalysis(\n",
            "  File \"<ipython-input-29-45567aa91255>\", line 23, in startAnalysis\n",
            "    model, tokenizer = load_model_tokenizer(args.model_name)\n",
            "  File \"<ipython-input-22-8e4ab26a6363>\", line 3, in load_model_tokenizer\n",
            "    return AutoModel.from_pretrained(model_name), AutoTokenizer.from_pretrained(model_name)\n",
            "  File \"/usr/local/lib/python3.9/dist-packages/transformers/models/auto/auto_factory.py\", line 471, in from_pretrained\n",
            "    return model_class.from_pretrained(\n",
            "  File \"/usr/local/lib/python3.9/dist-packages/transformers/modeling_utils.py\", line 2089, in from_pretrained\n",
            "    use_safetensors = kwargs.pop(\"use_safetensors\", None if is_safetensors_available() else False)\n",
            "  File \"/usr/local/lib/python3.9/dist-packages/transformers/utils/import_utils.py\", line 587, in is_safetensors_available\n",
            "    return importlib.util.find_spec(\"safetensors\") is not None\n",
            "  File \"/usr/lib/python3.9/importlib/util.py\", line 103, in find_spec\n",
            "    return _find_spec(fullname, parent_path)\n",
            "  File \"<frozen importlib._bootstrap>\", line 925, in _find_spec\n",
            "  File \"<frozen importlib._bootstrap_external>\", line 1423, in find_spec\n",
            "  File \"<frozen importlib._bootstrap_external>\", line 1392, in _get_spec\n",
            "  File \"<frozen importlib._bootstrap_external>\", line 1356, in _path_importer_cache\n",
            "OSError: [Errno 107] Transport endpoint is not connected\n",
            "\n",
            "During handling of the above exception, another exception occurred:\n",
            "\n",
            "Traceback (most recent call last):\n",
            "  File \"/usr/local/lib/python3.9/dist-packages/IPython/core/interactiveshell.py\", line 2099, in showtraceback\n",
            "    stb = value._render_traceback_()\n",
            "AttributeError: 'OSError' object has no attribute '_render_traceback_'\n",
            "\n",
            "During handling of the above exception, another exception occurred:\n",
            "\n",
            "Traceback (most recent call last):\n",
            "  File \"/usr/local/lib/python3.9/dist-packages/IPython/core/interactiveshell.py\", line 3473, in run_ast_nodes\n",
            "    if (await self.run_code(code, result,  async_=asy)):\n",
            "  File \"/usr/local/lib/python3.9/dist-packages/IPython/core/interactiveshell.py\", line 3575, in run_code\n",
            "    self.showtraceback(running_compiled_code=True)\n",
            "  File \"/usr/local/lib/python3.9/dist-packages/IPython/core/interactiveshell.py\", line 2101, in showtraceback\n",
            "    stb = self.InteractiveTB.structured_traceback(etype,\n",
            "  File \"/usr/local/lib/python3.9/dist-packages/IPython/core/ultratb.py\", line 1367, in structured_traceback\n",
            "    return FormattedTB.structured_traceback(\n",
            "  File \"/usr/local/lib/python3.9/dist-packages/IPython/core/ultratb.py\", line 1267, in structured_traceback\n",
            "    return VerboseTB.structured_traceback(\n",
            "  File \"/usr/local/lib/python3.9/dist-packages/IPython/core/ultratb.py\", line 1124, in structured_traceback\n",
            "    formatted_exception = self.format_exception_as_a_whole(etype, evalue, etb, number_of_lines_of_context,\n",
            "  File \"/usr/local/lib/python3.9/dist-packages/IPython/core/ultratb.py\", line 1082, in format_exception_as_a_whole\n",
            "    last_unique, recursion_repeat = find_recursion(orig_etype, evalue, records)\n",
            "  File \"/usr/local/lib/python3.9/dist-packages/IPython/core/ultratb.py\", line 382, in find_recursion\n",
            "    return len(records), 0\n",
            "TypeError: object of type 'NoneType' has no len()\n",
            "\n",
            "During handling of the above exception, another exception occurred:\n",
            "\n",
            "Traceback (most recent call last):\n",
            "  File \"/usr/local/lib/python3.9/dist-packages/IPython/core/interactiveshell.py\", line 2099, in showtraceback\n",
            "    stb = value._render_traceback_()\n",
            "AttributeError: 'TypeError' object has no attribute '_render_traceback_'\n",
            "\n",
            "During handling of the above exception, another exception occurred:\n",
            "\n",
            "Traceback (most recent call last):\n",
            "  File \"/usr/local/lib/python3.9/dist-packages/IPython/core/ultratb.py\", line 1101, in get_records\n",
            "    return _fixed_getinnerframes(etb, number_of_lines_of_context, tb_offset)\n",
            "  File \"/usr/local/lib/python3.9/dist-packages/IPython/core/ultratb.py\", line 248, in wrapped\n",
            "    return f(*args, **kwargs)\n",
            "  File \"/usr/local/lib/python3.9/dist-packages/IPython/core/ultratb.py\", line 281, in _fixed_getinnerframes\n",
            "    records = fix_frame_records_filenames(inspect.getinnerframes(etb, context))\n",
            "  File \"/usr/lib/python3.9/inspect.py\", line 1543, in getinnerframes\n",
            "    frameinfo = (tb.tb_frame,) + getframeinfo(tb, context)\n",
            "  File \"/usr/lib/python3.9/inspect.py\", line 1501, in getframeinfo\n",
            "    filename = getsourcefile(frame) or getfile(frame)\n",
            "  File \"/usr/lib/python3.9/inspect.py\", line 709, in getsourcefile\n",
            "    if getattr(getmodule(object, filename), '__loader__', None) is not None:\n",
            "  File \"/usr/lib/python3.9/inspect.py\", line 738, in getmodule\n",
            "    file = getabsfile(object, _filename)\n",
            "  File \"/usr/lib/python3.9/inspect.py\", line 722, in getabsfile\n",
            "    return os.path.normcase(os.path.abspath(_filename))\n",
            "  File \"/usr/lib/python3.9/posixpath.py\", line 380, in abspath\n",
            "    cwd = os.getcwd()\n",
            "OSError: [Errno 107] Transport endpoint is not connected\n",
            "Traceback (most recent call last):\n",
            "  File \"/usr/local/lib/python3.9/dist-packages/IPython/core/interactiveshell.py\", line 3553, in run_code\n",
            "    exec(code_obj, self.user_global_ns, self.user_ns)\n",
            "  File \"<ipython-input-30-f2c1a743b26b>\", line 4, in <cell line: 4>\n",
            "    startAnalysis(\n",
            "  File \"<ipython-input-29-45567aa91255>\", line 23, in startAnalysis\n",
            "    model, tokenizer = load_model_tokenizer(args.model_name)\n",
            "  File \"<ipython-input-22-8e4ab26a6363>\", line 3, in load_model_tokenizer\n",
            "    return AutoModel.from_pretrained(model_name), AutoTokenizer.from_pretrained(model_name)\n",
            "  File \"/usr/local/lib/python3.9/dist-packages/transformers/models/auto/auto_factory.py\", line 471, in from_pretrained\n",
            "    return model_class.from_pretrained(\n",
            "  File \"/usr/local/lib/python3.9/dist-packages/transformers/modeling_utils.py\", line 2089, in from_pretrained\n",
            "    use_safetensors = kwargs.pop(\"use_safetensors\", None if is_safetensors_available() else False)\n",
            "  File \"/usr/local/lib/python3.9/dist-packages/transformers/utils/import_utils.py\", line 587, in is_safetensors_available\n",
            "    return importlib.util.find_spec(\"safetensors\") is not None\n",
            "  File \"/usr/lib/python3.9/importlib/util.py\", line 103, in find_spec\n",
            "    return _find_spec(fullname, parent_path)\n",
            "  File \"<frozen importlib._bootstrap>\", line 925, in _find_spec\n",
            "  File \"<frozen importlib._bootstrap_external>\", line 1423, in find_spec\n",
            "  File \"<frozen importlib._bootstrap_external>\", line 1392, in _get_spec\n",
            "  File \"<frozen importlib._bootstrap_external>\", line 1356, in _path_importer_cache\n",
            "OSError: [Errno 107] Transport endpoint is not connected\n",
            "\n",
            "During handling of the above exception, another exception occurred:\n",
            "\n",
            "Traceback (most recent call last):\n",
            "  File \"/usr/local/lib/python3.9/dist-packages/IPython/core/interactiveshell.py\", line 2099, in showtraceback\n",
            "    stb = value._render_traceback_()\n",
            "AttributeError: 'OSError' object has no attribute '_render_traceback_'\n",
            "\n",
            "During handling of the above exception, another exception occurred:\n",
            "\n",
            "Traceback (most recent call last):\n",
            "  File \"/usr/local/lib/python3.9/dist-packages/IPython/core/interactiveshell.py\", line 3473, in run_ast_nodes\n",
            "    if (await self.run_code(code, result,  async_=asy)):\n",
            "  File \"/usr/local/lib/python3.9/dist-packages/IPython/core/interactiveshell.py\", line 3575, in run_code\n",
            "    self.showtraceback(running_compiled_code=True)\n",
            "  File \"/usr/local/lib/python3.9/dist-packages/IPython/core/interactiveshell.py\", line 2101, in showtraceback\n",
            "    stb = self.InteractiveTB.structured_traceback(etype,\n",
            "  File \"/usr/local/lib/python3.9/dist-packages/IPython/core/ultratb.py\", line 1367, in structured_traceback\n",
            "    return FormattedTB.structured_traceback(\n",
            "  File \"/usr/local/lib/python3.9/dist-packages/IPython/core/ultratb.py\", line 1267, in structured_traceback\n",
            "    return VerboseTB.structured_traceback(\n",
            "  File \"/usr/local/lib/python3.9/dist-packages/IPython/core/ultratb.py\", line 1124, in structured_traceback\n",
            "    formatted_exception = self.format_exception_as_a_whole(etype, evalue, etb, number_of_lines_of_context,\n",
            "  File \"/usr/local/lib/python3.9/dist-packages/IPython/core/ultratb.py\", line 1082, in format_exception_as_a_whole\n",
            "    last_unique, recursion_repeat = find_recursion(orig_etype, evalue, records)\n",
            "  File \"/usr/local/lib/python3.9/dist-packages/IPython/core/ultratb.py\", line 382, in find_recursion\n",
            "    return len(records), 0\n",
            "TypeError: object of type 'NoneType' has no len()\n",
            "\n",
            "During handling of the above exception, another exception occurred:\n",
            "\n",
            "Traceback (most recent call last):\n",
            "  File \"/usr/local/lib/python3.9/dist-packages/IPython/core/interactiveshell.py\", line 2099, in showtraceback\n",
            "    stb = value._render_traceback_()\n",
            "AttributeError: 'TypeError' object has no attribute '_render_traceback_'\n",
            "\n",
            "During handling of the above exception, another exception occurred:\n",
            "\n",
            "Traceback (most recent call last):\n",
            "  File \"/usr/local/lib/python3.9/dist-packages/IPython/core/interactiveshell.py\", line 3030, in _run_cell\n",
            "    return runner(coro)\n",
            "  File \"/usr/local/lib/python3.9/dist-packages/IPython/core/async_helpers.py\", line 78, in _pseudo_sync_runner\n",
            "    coro.send(None)\n",
            "  File \"/usr/local/lib/python3.9/dist-packages/IPython/core/interactiveshell.py\", line 3257, in run_cell_async\n",
            "    has_raised = await self.run_ast_nodes(code_ast.body, cell_name,\n",
            "  File \"/usr/local/lib/python3.9/dist-packages/IPython/core/interactiveshell.py\", line 3492, in run_ast_nodes\n",
            "    self.showtraceback()\n",
            "  File \"/usr/local/lib/python3.9/dist-packages/IPython/core/interactiveshell.py\", line 2101, in showtraceback\n",
            "    stb = self.InteractiveTB.structured_traceback(etype,\n",
            "  File \"/usr/local/lib/python3.9/dist-packages/IPython/core/ultratb.py\", line 1367, in structured_traceback\n",
            "    return FormattedTB.structured_traceback(\n",
            "  File \"/usr/local/lib/python3.9/dist-packages/IPython/core/ultratb.py\", line 1267, in structured_traceback\n",
            "    return VerboseTB.structured_traceback(\n",
            "  File \"/usr/local/lib/python3.9/dist-packages/IPython/core/ultratb.py\", line 1142, in structured_traceback\n",
            "    formatted_exceptions += self.format_exception_as_a_whole(etype, evalue, etb, lines_of_context,\n",
            "  File \"/usr/local/lib/python3.9/dist-packages/IPython/core/ultratb.py\", line 1082, in format_exception_as_a_whole\n",
            "    last_unique, recursion_repeat = find_recursion(orig_etype, evalue, records)\n",
            "  File \"/usr/local/lib/python3.9/dist-packages/IPython/core/ultratb.py\", line 382, in find_recursion\n",
            "    return len(records), 0\n",
            "TypeError: object of type 'NoneType' has no len()\n",
            "\n",
            "During handling of the above exception, another exception occurred:\n",
            "\n",
            "Traceback (most recent call last):\n",
            "  File \"/usr/local/lib/python3.9/dist-packages/IPython/core/interactiveshell.py\", line 2099, in showtraceback\n",
            "    stb = value._render_traceback_()\n",
            "AttributeError: 'TypeError' object has no attribute '_render_traceback_'\n",
            "\n",
            "During handling of the above exception, another exception occurred:\n",
            "\n",
            "Traceback (most recent call last):\n",
            "  File \"/usr/local/lib/python3.9/dist-packages/IPython/core/ultratb.py\", line 1101, in get_records\n",
            "    return _fixed_getinnerframes(etb, number_of_lines_of_context, tb_offset)\n",
            "  File \"/usr/local/lib/python3.9/dist-packages/IPython/core/ultratb.py\", line 248, in wrapped\n",
            "    return f(*args, **kwargs)\n",
            "  File \"/usr/local/lib/python3.9/dist-packages/IPython/core/ultratb.py\", line 281, in _fixed_getinnerframes\n",
            "    records = fix_frame_records_filenames(inspect.getinnerframes(etb, context))\n",
            "  File \"/usr/lib/python3.9/inspect.py\", line 1543, in getinnerframes\n",
            "    frameinfo = (tb.tb_frame,) + getframeinfo(tb, context)\n",
            "  File \"/usr/lib/python3.9/inspect.py\", line 1501, in getframeinfo\n",
            "    filename = getsourcefile(frame) or getfile(frame)\n",
            "  File \"/usr/lib/python3.9/inspect.py\", line 709, in getsourcefile\n",
            "    if getattr(getmodule(object, filename), '__loader__', None) is not None:\n",
            "  File \"/usr/lib/python3.9/inspect.py\", line 738, in getmodule\n",
            "    file = getabsfile(object, _filename)\n",
            "  File \"/usr/lib/python3.9/inspect.py\", line 722, in getabsfile\n",
            "    return os.path.normcase(os.path.abspath(_filename))\n",
            "  File \"/usr/lib/python3.9/posixpath.py\", line 380, in abspath\n",
            "    cwd = os.getcwd()\n",
            "OSError: [Errno 107] Transport endpoint is not connected\n"
          ]
        }
      ]
    },
    {
      "cell_type": "code",
      "source": [
        "#installs the latex Python package\n",
        "!pip install latex\n",
        "#Installs some required LATEX fonts and tools for creating PDFs from LATEX documents\n",
        "!apt install texlive-fonts-recommended texlive-fonts-extra cm-super dvipng"
      ],
      "metadata": {
        "colab": {
          "base_uri": "https://localhost:8080/"
        },
        "id": "TZUgx-2oO_dN",
        "outputId": "b1101109-633c-4add-a3b1-fef6f1bc0649"
      },
      "execution_count": 16,
      "outputs": [
        {
          "output_type": "stream",
          "name": "stdout",
          "text": [
            "Looking in indexes: https://pypi.org/simple, https://us-python.pkg.dev/colab-wheels/public/simple/\n",
            "Collecting latex\n",
            "  Downloading latex-0.7.0.tar.gz (6.5 kB)\n",
            "  Preparing metadata (setup.py) ... \u001b[?25l\u001b[?25hdone\n",
            "Collecting tempdir\n",
            "  Downloading tempdir-0.7.1.tar.gz (5.9 kB)\n",
            "  Preparing metadata (setup.py) ... \u001b[?25l\u001b[?25hdone\n",
            "Collecting data\n",
            "  Downloading data-0.4.tar.gz (7.0 kB)\n",
            "  Preparing metadata (setup.py) ... \u001b[?25l\u001b[?25hdone\n",
            "Requirement already satisfied: future in /usr/local/lib/python3.9/dist-packages (from latex) (0.18.3)\n",
            "Collecting shutilwhich\n",
            "  Downloading shutilwhich-1.1.0.tar.gz (2.3 kB)\n",
            "  Preparing metadata (setup.py) ... \u001b[?25l\u001b[?25hdone\n",
            "Requirement already satisfied: six in /usr/local/lib/python3.9/dist-packages (from data->latex) (1.16.0)\n",
            "Requirement already satisfied: decorator in /usr/local/lib/python3.9/dist-packages (from data->latex) (4.4.2)\n",
            "Collecting funcsigs\n",
            "  Downloading funcsigs-1.0.2-py2.py3-none-any.whl (17 kB)\n",
            "Building wheels for collected packages: latex, data, shutilwhich, tempdir\n",
            "  Building wheel for latex (setup.py) ... \u001b[?25l\u001b[?25hdone\n",
            "  Created wheel for latex: filename=latex-0.7.0-py3-none-any.whl size=7603 sha256=d73eb4f6b5fd2aee744415879283c2a89a75d8bd554deb8161a8304f6f617407\n",
            "  Stored in directory: /root/.cache/pip/wheels/94/84/e5/5ce582523fd479d00356867953085a67c47fbbc86506aa92f8\n",
            "  Building wheel for data (setup.py) ... \u001b[?25l\u001b[?25hdone\n",
            "  Created wheel for data: filename=data-0.4-py3-none-any.whl size=7244 sha256=b79dea50516e05011431289efa01a817123ed78076363f0f136f4e3bc5cf840d\n",
            "  Stored in directory: /root/.cache/pip/wheels/8a/0b/a3/37ca07d5a2838bba2e475e8090455e40b94631bd57a99a35f4\n",
            "  Building wheel for shutilwhich (setup.py) ... \u001b[?25l\u001b[?25hdone\n",
            "  Created wheel for shutilwhich: filename=shutilwhich-1.1.0-py3-none-any.whl size=2782 sha256=ec652b5cbd1870003a5348dee557845011a5dbca0e1406987f700b19db587827\n",
            "  Stored in directory: /root/.cache/pip/wheels/84/c7/f5/fed66dce1ed897b44e0da776b6a592dfad0a70f7dd61f73a9d\n",
            "  Building wheel for tempdir (setup.py) ... \u001b[?25l\u001b[?25hdone\n",
            "  Created wheel for tempdir: filename=tempdir-0.7.1-py3-none-any.whl size=2210 sha256=e38bc88001a38fecd8b1a9997e21601ff2202233159639a009982f10445a11d2\n",
            "  Stored in directory: /root/.cache/pip/wheels/31/7b/e3/af441c2f71a48c30809aada978c1433b163a0747e73b5805ca\n",
            "Successfully built latex data shutilwhich tempdir\n",
            "Installing collected packages: tempdir, shutilwhich, funcsigs, data, latex\n",
            "Successfully installed data-0.4 funcsigs-1.0.2 latex-0.7.0 shutilwhich-1.1.0 tempdir-0.7.1\n",
            "Reading package lists... Done\n",
            "Building dependency tree       \n",
            "Reading state information... Done\n",
            "cm-super is already the newest version (0.3.4-15).\n",
            "dvipng is already the newest version (1.15-1.1).\n",
            "texlive-fonts-extra is already the newest version (2019.202000218-1).\n",
            "texlive-fonts-recommended is already the newest version (2019.20200218-1).\n",
            "0 upgraded, 0 newly installed, 0 to remove and 24 not upgraded.\n"
          ]
        }
      ]
    },
    {
      "cell_type": "code",
      "source": [
        "#Function calculates average similarity score for each layer.\n",
        "def process_result(in_f):\n",
        "    # Load the result JSON file\n",
        "    with open(in_f) as f:\n",
        "        res_dict = json.load(f)\n",
        "    # Print the number of instances\n",
        "    print (len(res_dict))\n",
        "    \n",
        "    # Create a dictionary to store the cross-similarity result for each layer\n",
        "    layer_res = {}\n",
        "    for idx in range(1,13):\n",
        "        layer_res[idx] = {'cosine_sum':0., 'token_sum':0}\n",
        "    \n",
        "    # Traverse each instance to update the cross-similarity result for each layer\n",
        "    key_list = list(res_dict.keys())\n",
        "    for key in key_list:\n",
        "        instance = res_dict[key]\n",
        "        for idx in range(1,13):\n",
        "            key = str(idx)\n",
        "            one_cosine_sum = instance[key]['cosine_sum']\n",
        "            one_token_sum = instance[key]['token_sum']\n",
        "            layer_res[idx]['cosine_sum'] += one_cosine_sum\n",
        "            layer_res[idx]['token_sum'] += one_token_sum\n",
        "            \n",
        "    # Compute the final result for each layer and store it in a list\n",
        "    res_list = []\n",
        "    for idx in range(1,13):\n",
        "        res_list.append(round(layer_res[idx]['cosine_sum'] / layer_res[idx]['token_sum'], 3))\n",
        "    return res_list\n"
      ],
      "metadata": {
        "id": "eIcQ_KkoPZgE"
      },
      "execution_count": 17,
      "outputs": []
    },
    {
      "cell_type": "code",
      "source": [
        "\n",
        "def generategraphs():\n",
        "    # Load the results of self-similarity analysis for BERT and TaCL models\n",
        "    in_f = r'./bert_resul.json'\n",
        "    bert_res_list = process_result(in_f)\n",
        "    in_f = r'./tacl_resul.json'\n",
        "    tacl_res_list = process_result(in_f)\n",
        "\n",
        "    # Import required libraries for plotting the graph\n",
        "    import matplotlib.pyplot as plt\n",
        "\n",
        "    # Configure the graph style\n",
        "    plt.rc('text', usetex=True)\n",
        "    plt.rc('font', family='serif')\n",
        "    plt.rcParams.update({'font.size': 14})\n",
        "    plt.xlabel('Layer', fontsize=16)\n",
        "    plt.ylabel('Self-similarity', fontsize=16)\n",
        "\n",
        "    # Define x-axis values (layer numbers)\n",
        "    x = [1,2,3,4,5,6,7,8,9,10,11,12]\n",
        "\n",
        "    # Define y-axis values (self-similarity scores) for BERT and TaCL models\n",
        "    y3 = bert_res_list\n",
        "    y4 = tacl_res_list\n",
        "\n",
        "    # Define labels for x-axis ticks\n",
        "    my_xticks = ['1', '2','3','4','5','6','7','8','9','10', '11', '12']\n",
        "\n",
        "    # Define colors for the graph\n",
        "    color_1, color_2 = 'orangered', 'royalblue'\n",
        "\n",
        "    # Configure the x-axis ticks\n",
        "    plt.xticks(x, my_xticks, fontsize=14)\n",
        "\n",
        "    # Plot the self-similarity scores for TaCL and BERT models\n",
        "    plt.plot(x, y4, marker = 's', markerfacecolor='none', label='TaCL(Englsih)', linestyle='--', color=color_1)\n",
        "    plt.plot(x, y3, marker = 'd', markerfacecolor='none', linestyle='--', label='BERT(English)', color=color_2)\n",
        "\n",
        "    # Configure the graph limits and legend\n",
        "    plt.ylim(ymin=0.1, ymax=0.77)\n",
        "    plt.legend(loc='upper left', fontsize=12)\n",
        "    plt.legend(fontsize=12, ncol=2, handleheight=2, labelspacing=0.005, columnspacing=0.5, loc='upper left')\n",
        "\n",
        "    # Display and save the graph\n",
        "    plt.show()\n",
        "    plt.savefig('self-similarity.png', format='png', dpi=500, bbox_inches = 'tight')\n"
      ],
      "metadata": {
        "id": "Do46VRDNP4K1"
      },
      "execution_count": 18,
      "outputs": []
    },
    {
      "cell_type": "code",
      "source": [
        "generategraphs()"
      ],
      "metadata": {
        "colab": {
          "base_uri": "https://localhost:8080/",
          "height": 512
        },
        "id": "0WZcsYAxRSUn",
        "outputId": "9a0e3b9b-46bf-4943-9eb0-f3857157097b"
      },
      "execution_count": 19,
      "outputs": [
        {
          "output_type": "stream",
          "name": "stdout",
          "text": [
            "10000\n",
            "10000\n"
          ]
        },
        {
          "output_type": "display_data",
          "data": {
            "text/plain": [
              "<Figure size 640x480 with 1 Axes>"
            ],
            "image/png": "[encoded data removed]"
          },
          "metadata": {}
        },
        {
          "output_type": "display_data",
          "data": {
            "text/plain": [
              "<Figure size 640x480 with 0 Axes>"
            ]
          },
          "metadata": {}
        }
      ]
    },
    {
      "cell_type": "markdown",
      "source": [
        "Line graph is generated to show layer wise self-similarity"
      ],
      "metadata": {
        "id": "VVmnD6-CPJ0z"
      }
    },
    {
      "cell_type": "markdown",
      "source": [
        "##Correaltion Matrix of Tokens in a Sentence is generated."
      ],
      "metadata": {
        "id": "m_CDTOO9PSwq"
      }
    },
    {
      "cell_type": "code",
      "source": [
        "#function computes the correlation matrix of the hidden states\n",
        "def compute_correlation_matrix(model, tokenizer, text):\n",
        "    # Adds special tokens to the input text and tokenize it\n",
        "    text = '[CLS] ' + text.strip('\\n') + ' [SEP]'\n",
        "    token_list = tokenizer.tokenize(text)\n",
        "\n",
        "    # Convert tokens to input ids and get the input sequence length\n",
        "    input_ids = torch.LongTensor(tokenizer.convert_tokens_to_ids(token_list)).view(1,-1)\n",
        "    _, seq_len = input_ids.size()\n",
        "\n",
        "    # Pass the input ids through the model to get the hidden states\n",
        "    hidden = model(input_ids).last_hidden_state\n",
        "\n",
        "    # Normalize the hidden states along the last dimension\n",
        "    norm_hidden = hidden / hidden.norm(dim=2, keepdim=True)\n",
        "\n",
        "    # Compute the correlation matrix of the hidden states\n",
        "    correlation_matrix = torch.matmul(norm_hidden, norm_hidden.transpose(1,2)).view(seq_len, seq_len)\n",
        "\n",
        "    # Convert the correlation matrix tensor to a numpy array and return it, along with the token list\n",
        "    return correlation_matrix.detach().numpy(), token_list\n"
      ],
      "metadata": {
        "id": "RgFnlAVfRVkK"
      },
      "execution_count": null,
      "outputs": []
    },
    {
      "cell_type": "code",
      "source": [
        "# function generates correlation matrices and heatmaps for a given text using BERT and TaCL models.\n",
        "def get_corr_matrix():\n",
        "    # Load BERT\n",
        "    model_name = 'bert-base-uncased'\n",
        "    bert, bert_tokenizer = load_model_tokenizer(model_name)\n",
        "    import matplotlib\n",
        "    matplotlib.use('Agg')\n",
        "\n",
        "    # Load TaCL\n",
        "    model_name = 'cambridgeltl/tacl-bert-base-uncased'\n",
        "    tacl, tacl_tokenizer = load_model_tokenizer(model_name)\n",
        "\n",
        "    # Define the input text\n",
        "    text = \"Today's weather was pleasant, but Linda felt it was unpleasant.\"\n",
        "\n",
        "    # Compute the correlation matrix for BERT\n",
        "    bert_res, token_list = compute_correlation_matrix(bert, bert_tokenizer, text)\n",
        "\n",
        "    # Clean up the token list for better visualization\n",
        "    final_token_list=[]\n",
        "    j=0\n",
        "    r=0\n",
        "    for i in token_list:\n",
        "        if i.startswith(\"#\")== True:\n",
        "            i=i.replace(\"#\",\"symbol \")\n",
        "        final_token_list.append(i)\n",
        "    print(final_token_list)\n",
        "\n",
        "    # Create a dataframe to store the correlation matrix and visualize it as a heatmap for BERT\n",
        "    df = pd.DataFrame(bert_res, \n",
        "                      index=final_token_list,\n",
        "                      columns=final_token_list)\n",
        "\n",
        "    fig, ax = plt.subplots(figsize=(10, 8))\n",
        "    sns.heatmap(df, cmap=\"Oranges\",ax=ax)\n",
        "    plt.savefig('bert_heatmap.png', format='png', dpi=500)\n",
        "    plt.show()\n",
        "\n",
        "    # Compute the correlation matrix for TaCL\n",
        "    tacl_res, token_list = compute_correlation_matrix(tacl, tacl_tokenizer, text)\n",
        "\n",
        "    # Create a dataframe to store the correlation matrix and visualize it as a heatmap for TaCL\n",
        "    df = pd.DataFrame(tacl_res, \n",
        "                      index=final_token_list,\n",
        "                      columns=final_token_list)\n",
        "    fig, ax = plt.subplots(figsize=(10, 8))\n",
        "    sns.heatmap(df, cmap=\"Oranges\",ax=ax)\n",
        "    plt.savefig('tacl_heatmap.png', format='png', dpi=500)\n",
        "    plt.show()\n"
      ],
      "metadata": {
        "id": "9yaMr1DGRt20"
      },
      "execution_count": null,
      "outputs": []
    },
    {
      "cell_type": "code",
      "source": [
        "get_corr_matrix()"
      ],
      "metadata": {
        "id": "-YzGvOjcSZ0G"
      },
      "execution_count": null,
      "outputs": []
    },
    {
      "cell_type": "markdown",
      "source": [
        "Two heat maps are generated \"tacl_heatmap.png\",\"bert_heatmap.png\" for token self-similarity."
      ],
      "metadata": {
        "id": "K2Y_b2D4PfAv"
      }
    }
  ]
}